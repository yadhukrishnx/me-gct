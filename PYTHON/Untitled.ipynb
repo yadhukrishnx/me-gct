{
 "cells": [
  {
   "cell_type": "markdown",
   "id": "47fa516b",
   "metadata": {},
   "source": [
    "Sample Program List \n",
    "1. Write a program to find the largest from a list of numbers\n",
    "2. Write a program to generate first n perfect numbers\n",
    "3. Write a program to perform the binary search \n",
    "4. Write a program to find the square root of a number using bisection search \n",
    "method. \n",
    "5. Write a program to generate Fibonacci series using recursion \n",
    "6. Write a program to find the LCM and GCD of 2 numbers \n",
    "7. Write a program to perform merge sort \n",
    "8. Write a program which reads the contents of a file and copy the contents to \n",
    "another file after changing all the letter to upper case. Exceptions should be \n",
    "handled. \n",
    "9. Write a program to find the prime numbers in a list of numbers. \n",
    "10. Write a python program to perform the following \n",
    "a) Create table students with fields name,sex,rollno,marks \n",
    "b) Insert some rows into the table \n",
    "c) Update the marks of all students by adding 2 marks \n",
    "d) Delete a student with a given rollno \n",
    "e) Display the details of a student with a given rollno \n",
    "11. Create a simple Login window using Tkinter \n",
    "12. Create a plot for the mathematical function x2\n",
    ". The title of the plot and the axes \n",
    "should be labelled. "
   ]
  },
  {
   "cell_type": "code",
   "execution_count": 3,
   "id": "5f62adbe",
   "metadata": {
    "scrolled": true
   },
   "outputs": [
    {
     "name": "stdout",
     "output_type": "stream",
     "text": [
      "enter by sep com2,3,4\n",
      "Max of list 4\n"
     ]
    }
   ],
   "source": [
    "list1=list(input(\"enter by sep com\").split(','))\n",
    "print(\"Max of list\",max(list1))"
   ]
  },
  {
   "cell_type": "code",
   "execution_count": 11,
   "id": "cfc06931",
   "metadata": {},
   "outputs": [
    {
     "name": "stdout",
     "output_type": "stream",
     "text": [
      "Enter the size of list5\n",
      "Enter list item 1 2\n",
      "Enter list item 2 4\n",
      "Enter list item 3 5\n",
      "Enter list item 4 6\n",
      "Enter list item 5 3\n",
      "Largest of list 6\n"
     ]
    }
   ],
   "source": [
    "list1=[]\n",
    "n=int(input(\"Enter the size of list\"))\n",
    "for i in range(0,n):\n",
    "    listitem=int(input(f\"Enter list item {i+1} \"))\n",
    "    list1.append(listitem)\n",
    "print(\"Largest of list :\",max(list1))"
   ]
  },
  {
   "cell_type": "code",
   "execution_count": 30,
   "id": "3aa7abf4",
   "metadata": {},
   "outputs": [
    {
     "name": "stdout",
     "output_type": "stream",
     "text": [
      "Enter a number496\n",
      "496 is prime\n"
     ]
    }
   ],
   "source": [
    "n=int(input(\"Enter a limit\"))\n",
    "sum=0\n",
    "for i in range(1,n):\n",
    "    for j in range(n-1,0):\n",
    "                if n%i==0:\n",
    "                sum=sum+i\n",
    "\n",
    "if sum==n:\n",
    "    print(f\"{n} is prime\")\n",
    "else:\n",
    "    print(\"Not prime\")"
   ]
  },
  {
   "cell_type": "code",
   "execution_count": 8,
   "id": "400b596f",
   "metadata": {},
   "outputs": [
    {
     "name": "stdout",
     "output_type": "stream",
     "text": [
      "Enter the lower limit4\n",
      "Enter the higher limit45\n",
      "No prime numbers within this limit\n"
     ]
    }
   ],
   "source": [
    "flag=0\n",
    "l=int(input(\"Enter the lower limit\"))\n",
    "u=int(input(\"Enter the higher limit\"))\n",
    "for i in range(l,u):\n",
    "    s=0\n",
    "    \n",
    "    for j in range(l,i):\n",
    "        if i%j==0:\n",
    "            s=s+j\n",
    "    if s==i:\n",
    "        print(i)\n",
    "        flag=1\n",
    "if flag!=1:\n",
    "    print(\"No prime numbers within this limit\")"
   ]
  },
  {
   "cell_type": "code",
   "execution_count": 15,
   "id": "56657ec3",
   "metadata": {},
   "outputs": [
    {
     "name": "stdout",
     "output_type": "stream",
     "text": [
      "Enter the size of list to perform bianry search2\n",
      "Enter the Element 1 1\n",
      "Enter the Element 2 2\n",
      "[2, 1]\n"
     ]
    }
   ],
   "source": [
    "lst=[]\n",
    "n=int(input(\"Enter the size of list to perform bianry search\"))\n",
    "for i in range(0,n):\n",
    "    elem=int(input(f\"Enter the Element {i+1} \"))\n",
    "    lst.append(elem)\n",
    "lst.sort(reverse=True)\n",
    "print(lst)"
   ]
  },
  {
   "cell_type": "code",
   "execution_count": 40,
   "id": "51d0878c",
   "metadata": {},
   "outputs": [
    {
     "name": "stdout",
     "output_type": "stream",
     "text": [
      "Enter the size of list to perform bianry search4\n",
      "Enter the Element 1 3\n",
      "Enter the Element 2 4\n",
      "Enter the Element 3 6\n",
      "Enter the Element 4 1\n",
      "Enter the element to be Searched :8\n"
     ]
    },
    {
     "ename": "RecursionError",
     "evalue": "maximum recursion depth exceeded",
     "output_type": "error",
     "traceback": [
      "\u001b[1;31m---------------------------------------------------------------------------\u001b[0m",
      "\u001b[1;31mRecursionError\u001b[0m                            Traceback (most recent call last)",
      "Cell \u001b[1;32mIn[40], line 19\u001b[0m\n\u001b[0;32m     17\u001b[0m lst\u001b[38;5;241m.\u001b[39msort()\n\u001b[0;32m     18\u001b[0m key\u001b[38;5;241m=\u001b[39m\u001b[38;5;28mint\u001b[39m(\u001b[38;5;28minput\u001b[39m(\u001b[38;5;124m\"\u001b[39m\u001b[38;5;124mEnter the element to be Searched :\u001b[39m\u001b[38;5;124m\"\u001b[39m))\n\u001b[1;32m---> 19\u001b[0m result \u001b[38;5;241m=\u001b[39m binarysearch(lst,\u001b[38;5;241m1\u001b[39m,\u001b[38;5;28mlen\u001b[39m(lst)\u001b[38;5;241m-\u001b[39m\u001b[38;5;241m1\u001b[39m,key)\n\u001b[0;32m     20\u001b[0m \u001b[38;5;28;01mif\u001b[39;00m result\u001b[38;5;241m!=\u001b[39m\u001b[38;5;241m-\u001b[39m\u001b[38;5;241m1\u001b[39m:\n\u001b[0;32m     21\u001b[0m     \u001b[38;5;28mprint\u001b[39m(\u001b[38;5;124mf\u001b[39m\u001b[38;5;124m\"\u001b[39m\u001b[38;5;124mElement find at index \u001b[39m\u001b[38;5;132;01m{\u001b[39;00mresult\u001b[38;5;241m+\u001b[39m\u001b[38;5;241m1\u001b[39m\u001b[38;5;132;01m}\u001b[39;00m\u001b[38;5;124m\"\u001b[39m)\n",
      "Cell \u001b[1;32mIn[40], line 8\u001b[0m, in \u001b[0;36mbinarysearch\u001b[1;34m(lst, low, high, key)\u001b[0m\n\u001b[0;32m      6\u001b[0m     \u001b[38;5;28;01mreturn\u001b[39;00m binarysearch(lst,low,mid,key)\n\u001b[0;32m      7\u001b[0m \u001b[38;5;28;01melif\u001b[39;00m lst[mid] \u001b[38;5;241m<\u001b[39m key:\n\u001b[1;32m----> 8\u001b[0m     \u001b[38;5;28;01mreturn\u001b[39;00m binarysearch(lst,mid,high,key)\n\u001b[0;32m      9\u001b[0m \u001b[38;5;28;01melse\u001b[39;00m:\n\u001b[0;32m     10\u001b[0m     \u001b[38;5;28;01mreturn\u001b[39;00m \u001b[38;5;241m-\u001b[39m\u001b[38;5;241m1\u001b[39m\n",
      "Cell \u001b[1;32mIn[40], line 8\u001b[0m, in \u001b[0;36mbinarysearch\u001b[1;34m(lst, low, high, key)\u001b[0m\n\u001b[0;32m      6\u001b[0m     \u001b[38;5;28;01mreturn\u001b[39;00m binarysearch(lst,low,mid,key)\n\u001b[0;32m      7\u001b[0m \u001b[38;5;28;01melif\u001b[39;00m lst[mid] \u001b[38;5;241m<\u001b[39m key:\n\u001b[1;32m----> 8\u001b[0m     \u001b[38;5;28;01mreturn\u001b[39;00m binarysearch(lst,mid,high,key)\n\u001b[0;32m      9\u001b[0m \u001b[38;5;28;01melse\u001b[39;00m:\n\u001b[0;32m     10\u001b[0m     \u001b[38;5;28;01mreturn\u001b[39;00m \u001b[38;5;241m-\u001b[39m\u001b[38;5;241m1\u001b[39m\n",
      "    \u001b[1;31m[... skipping similar frames: binarysearch at line 8 (2971 times)]\u001b[0m\n",
      "Cell \u001b[1;32mIn[40], line 8\u001b[0m, in \u001b[0;36mbinarysearch\u001b[1;34m(lst, low, high, key)\u001b[0m\n\u001b[0;32m      6\u001b[0m     \u001b[38;5;28;01mreturn\u001b[39;00m binarysearch(lst,low,mid,key)\n\u001b[0;32m      7\u001b[0m \u001b[38;5;28;01melif\u001b[39;00m lst[mid] \u001b[38;5;241m<\u001b[39m key:\n\u001b[1;32m----> 8\u001b[0m     \u001b[38;5;28;01mreturn\u001b[39;00m binarysearch(lst,mid,high,key)\n\u001b[0;32m      9\u001b[0m \u001b[38;5;28;01melse\u001b[39;00m:\n\u001b[0;32m     10\u001b[0m     \u001b[38;5;28;01mreturn\u001b[39;00m \u001b[38;5;241m-\u001b[39m\u001b[38;5;241m1\u001b[39m\n",
      "\u001b[1;31mRecursionError\u001b[0m: maximum recursion depth exceeded"
     ]
    }
   ],
   "source": [
    "def binarysearch(lst,low,high,key):\n",
    "    mid = (low+high) // 2\n",
    "    if lst[mid] == key:\n",
    "        return mid\n",
    "    elif lst[mid] > key:\n",
    "        return binarysearch(lst,low,mid,key)\n",
    "    elif lst[mid] < key:\n",
    "        return binarysearch(lst,mid,high,key)\n",
    "    else:\n",
    "        return -1\n",
    "\n",
    "lst=[]\n",
    "n=int(input(\"Enter the size of list to perform bianry search\"))\n",
    "for i in range(0,n):\n",
    "    elem=int(input(f\"Enter the Element {i+1} \"))\n",
    "    lst.append(elem)\n",
    "lst.sort()\n",
    "key=int(input(\"Enter the element to be Searched :\"))\n",
    "result = binarysearch(lst,1,len(lst)-1,key)\n",
    "if result!=-1:\n",
    "    print(f\"Element find at index {result+1}\")\n",
    "else:\n",
    "    print(\"Element not found\")\n"
   ]
  },
  {
   "cell_type": "code",
   "execution_count": 44,
   "id": "ff97377c",
   "metadata": {},
   "outputs": [
    {
     "name": "stdout",
     "output_type": "stream",
     "text": [
      "Enter the size of list :3\n",
      "Enter the 1 element :4\n",
      "Enter the 2 element :5\n",
      "Enter the 3 element :2\n",
      "Enter the element to be searched87\n",
      "NOt found\n"
     ]
    }
   ],
   "source": [
    "def bins(lst,low,high,key):\n",
    "    if high >= low:\n",
    "        mid = (low+high) // 2\n",
    "        if lst[mid] == key:\n",
    "            return mid\n",
    "        elif lst[mid] > key:\n",
    "            return bins(lst,low,mid-1,key)\n",
    "        else:\n",
    "            return bins(lst,mid+1,high,key)\n",
    "    else:\n",
    "        return -1\n",
    "\n",
    "lst=[]\n",
    "n=int(input(\"Enter the size of list :\"))\n",
    "for i in range(0,n):\n",
    "    elem=int(input(f\"Enter the {i+1} element :\"))\n",
    "    lst.append(elem)\n",
    "lst.sort()\n",
    "key=int(input(\"Enter the element to be searched\"))\n",
    "result = bins(lst,1,len(lst)-1,key)\n",
    "if result != -1:\n",
    "    print(f\"Element found at index {result+1}\")\n",
    "else:\n",
    "    print(\"NOt found\")\n",
    "    "
   ]
  },
  {
   "cell_type": "code",
   "execution_count": 58,
   "id": "11d9ad60",
   "metadata": {},
   "outputs": [
    {
     "name": "stdout",
     "output_type": "stream",
     "text": [
      "Enter no:4103478819\n",
      "Root:64058.401627 solved with 67 guess\n"
     ]
    }
   ],
   "source": [
    "n=float(input(\"Enter no:\"))\n",
    "low,high=0,n\n",
    "guess=(low+high)/2.0\n",
    "g_count=0\n",
    "error=1e-6\n",
    "while abs(guess**2 - n)>=error:\n",
    "    if guess**2<n:\n",
    "        low=guess\n",
    "    else:\n",
    "        high=guess\n",
    "    guess=(high+low)/2.0\n",
    "    g_count+=1\n",
    "print(f\"Root:{guess:.6f} solved with {g_count} guess\")"
   ]
  }
 ],
 "metadata": {
  "kernelspec": {
   "display_name": "Python 3 (ipykernel)",
   "language": "python",
   "name": "python3"
  },
  "language_info": {
   "codemirror_mode": {
    "name": "ipython",
    "version": 3
   },
   "file_extension": ".py",
   "mimetype": "text/x-python",
   "name": "python",
   "nbconvert_exporter": "python",
   "pygments_lexer": "ipython3",
   "version": "3.11.4"
  }
 },
 "nbformat": 4,
 "nbformat_minor": 5
}
