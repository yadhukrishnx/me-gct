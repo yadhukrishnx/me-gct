{
 "cells": [
  {
   "cell_type": "raw",
   "id": "8094737f",
   "metadata": {},
   "source": [
    "\n",
    "\n",
    "Sample Program List \n",
    "1. Write a program to find the largest from a list of numbers\n",
    "2. Write a program to generate first n perfect numbers\n",
    "3. Write a program to perform the binary search \n",
    "4. Write a program to find the square root of a number using bisection search \n",
    "method. \n",
    "5. Write a program to generate Fibonacci series using recursion \n",
    "6. Write a program to find the LCM and GCD of 2 numbers \n",
    "7. Write a program to perform merge sort \n",
    "8. Write a program which reads the contents of a file and copy the contents to \n",
    "another file after changing all the letter to upper case. Exceptions should be \n",
    "handled. \n",
    "9. Write a program to find the prime numbers in a list of numbers. \n",
    "10. Write a python program to perform the following \n",
    "a) Create table students with fields name,sex,rollno,marks \n",
    "b) Insert some rows into the table \n",
    "c) Update the marks of all students by adding 2 marks \n",
    "d) Delete a student with a given rollno \n",
    "e) Display the details of a student with a given rollno \n",
    "11. Create a simple Login window using Tkinter \n",
    "12. Create a plot for the mathematical function x2\n",
    ". The title of the plot and the axes \n",
    "should be labelled. "
   ]
  },
  {
   "cell_type": "markdown",
   "id": "4a79a71e",
   "metadata": {},
   "source": [
    "# 1 largest of a list"
   ]
  },
  {
   "cell_type": "code",
   "execution_count": null,
   "id": "38178477",
   "metadata": {
    "scrolled": true
   },
   "outputs": [],
   "source": [
    "\n",
    "mylst=list(input(\"Enter list items seperated by comma\").split(\",\"))\n",
    "print(\"The Largest of list is \",max(mylst))"
   ]
  },
  {
   "cell_type": "code",
   "execution_count": null,
   "id": "6fca5d8b",
   "metadata": {},
   "outputs": [],
   "source": [
    "mylst=[]\n",
    "n=int(input(\"Enter the Size of list : \"))\n",
    "for i in range(1,n+1):\n",
    "    elem=int(input(f\"Enter the {i} th element\"))\n",
    "    mylst.append(elem)\n",
    "    print(\"\")\n",
    "print(\"List Entered :\",mylst)\n",
    "print(\"\")\n",
    "print(\"Largest of list \",max(mylst))"
   ]
  },
  {
   "cell_type": "markdown",
   "id": "d50afd9d",
   "metadata": {},
   "source": [
    "# 2 Perfect Numbers"
   ]
  },
  {
   "cell_type": "code",
   "execution_count": null,
   "id": "e506a439",
   "metadata": {},
   "outputs": [],
   "source": [
    "n=int(input(\"Enter the Limit to print perfect Numbers :\"))\n",
    "print(f\"The perfect Numbers till {n} : \",end=\"\")\n",
    "for i in range(1,n+1):\n",
    "    sum=0\n",
    "    for j in range(1,i):\n",
    "        if(i%j==0):\n",
    "            sum+=j\n",
    "    if sum==i:\n",
    "        print(i,end=\" \")"
   ]
  },
  {
   "cell_type": "markdown",
   "id": "855208ac",
   "metadata": {},
   "source": [
    "# 3 Binary Search\n"
   ]
  },
  {
   "cell_type": "code",
   "execution_count": 7,
   "id": "fc58f3af",
   "metadata": {},
   "outputs": [
    {
     "name": "stdout",
     "output_type": "stream",
     "text": [
      "Enter the Sorted Array seperated by comma : 1,2,3,4,5,6,7,8,9\n",
      "Enter the element to be Searched : 4\n",
      "Element Found at Position  4\n"
     ]
    }
   ],
   "source": [
    "def binarysearch(arr,low,high,x):\n",
    "    if high >= low:\n",
    "        mid = (high + low) // 2\n",
    "        if arr[mid] == x:\n",
    "            return mid\n",
    "        elif arr[mid] > x:\n",
    "            return binarysearch(arr,low,mid-1,x)\n",
    "        else:\n",
    "            return binarysearch(arr,mid+1,high,x)\n",
    "    else:\n",
    "        return -1\n",
    "    \n",
    "\n",
    "arr=list(input(\"Enter the Sorted Array seperated by comma : \").split(\",\"))\n",
    "x=input(\"Enter the element to be Searched : \")\n",
    "result=binarysearch(arr,0,len(arr)-1,x)\n",
    "if result != -1:\n",
    "    print(\"Element Found at index \", str(result))\n",
    "else:\n",
    "    print(\"Element Not found\")"
   ]
  },
  {
   "cell_type": "markdown",
   "id": "37845f62",
   "metadata": {},
   "source": [
    "# 4 Square root using Bisection search"
   ]
  },
  {
   "cell_type": "code",
   "execution_count": 5,
   "id": "4868406e",
   "metadata": {},
   "outputs": [
    {
     "name": "stdout",
     "output_type": "stream",
     "text": [
      "Enter a number to find its square root: 25\n",
      "The square root of 25.0 is approximately 5.000000\n"
     ]
    }
   ],
   "source": [
    "def find_square_root(number, epsilon=1e-6):\n",
    "    if number < 0:\n",
    "        return \"Cannot compute the square root of a negative number\"\n",
    "\n",
    "    low, high = 0, max(1, number)\n",
    "    guess = (low + high) / 2\n",
    "\n",
    "    while abs(guess**2 - number) > epsilon:\n",
    "        if guess**2 < number:\n",
    "            low = guess\n",
    "        else:\n",
    "            high = guess\n",
    "        guess = (low + high) / 2\n",
    "\n",
    "    return guess\n",
    "\n",
    "input_number = float(input(\"Enter a number to find its square root: \"))\n",
    "result = find_square_root(input_number)\n",
    "\n",
    "\n",
    "print(f\"The square root of {input_number} is approximately {result:.6f}\")"
   ]
  },
  {
   "cell_type": "code",
   "execution_count": 16,
   "id": "fe3495f3",
   "metadata": {},
   "outputs": [
    {
     "name": "stdout",
     "output_type": "stream",
     "text": [
      "Enter the number to find square root :  16\n",
      "The square root of 16.0 if approximately 4.000000 solved with 1 guesses\n"
     ]
    }
   ],
   "source": [
    "number = float(input(\"Enter the number to find square root :  \"))\n",
    "low, high = 0 , number;\n",
    "guess=high/2.0\n",
    "error = 1e-6 # that is 10 ^ -6  or 0.000001\n",
    "guess_count=0\n",
    "while abs(guess**2 - number)>=error:\n",
    "    if guess**2<number:\n",
    "        low=guess\n",
    "    else:\n",
    "        high=guess\n",
    "    guess=(high+low)/2.0\n",
    "    guess_count+=1\n",
    "print(f\"The square root of {number} if approximately {guess:.6f} solved with {guess_count} guesses\")\n"
   ]
  },
  {
   "cell_type": "markdown",
   "id": "2c7e3f7a",
   "metadata": {},
   "source": [
    "# 5 Fibonacci series using recursion"
   ]
  },
  {
   "cell_type": "code",
   "execution_count": 39,
   "id": "1344bb01",
   "metadata": {},
   "outputs": [
    {
     "name": "stdout",
     "output_type": "stream",
     "text": [
      "Enter the limit to print fibonacci series :10\n",
      "[0, 1, 1, 2, 3, 5, 8]\n"
     ]
    }
   ],
   "source": [
    "# Using limit\n",
    "def fibonacci_series(limit,a=0,b=1):\n",
    "    if a > limit:\n",
    "        return[]\n",
    "    else:\n",
    "        return[a] + fibonacci_series(limit,b,a+b)\n",
    "limit=int(input(\"Enter the limit to print fibonacci series :\"))\n",
    "series=fibonacci_series(limit)\n",
    "print(series)"
   ]
  },
  {
   "cell_type": "code",
   "execution_count": 47,
   "id": "743ec9ce",
   "metadata": {},
   "outputs": [
    {
     "name": "stdout",
     "output_type": "stream",
     "text": [
      "Enter the count of number of series to print 10\n",
      "\n",
      "Fibonacci series : 0 , 1 , 1 , 2 , 3 , 5 , 8 , 13 , 21 , 34 , "
     ]
    }
   ],
   "source": [
    "# Using count \n",
    "def fibonacci_series(n):\n",
    "    if n <= 1 :\n",
    "        return n \n",
    "    else: \n",
    "        return(fibonacci_series(n-1)+ fibonacci_series(n-2) )\n",
    "    \n",
    "    \n",
    "count=int(input(\"Enter the count of number of series to print \"))    \n",
    "if count <= 0:\n",
    "    print(\"Enter a positive number : \")\n",
    "else:\n",
    "    print(\"\\nFibonacci series : \",end=\"\")\n",
    "    for i in range(count):\n",
    "        print(fibonacci_series(i),end=\" , \")\n"
   ]
  },
  {
   "cell_type": "markdown",
   "id": "d08e89d4",
   "metadata": {},
   "source": [
    "# 6 LCM and GCD of numbers"
   ]
  },
  {
   "cell_type": "code",
   "execution_count": 66,
   "id": "52f30c82",
   "metadata": {},
   "outputs": [
    {
     "name": "stdout",
     "output_type": "stream",
     "text": [
      "Enter two numbers seperated by comma : 30,50\n",
      "GCD of numbers 30 and 50 is 10 and LCM of numbers is 150\n"
     ]
    }
   ],
   "source": [
    "def gcd(a,b):\n",
    "     while b: #Euclidean algorithm.\n",
    "        a, b = b, a % b\n",
    "     return a\n",
    "def lcm(a,b):\n",
    "     return (a * b) // gcd(a, b)\n",
    "    \n",
    "a,b=map(int,input(\"Enter two numbers seperated by comma : \").split(\",\"))\n",
    "g=gcd(a,b)\n",
    "l=lcm(a,b)\n",
    "print(f\"GCD of numbers {a} and {b} is {g} and LCM of numbers is {l}\")\n"
   ]
  },
  {
   "cell_type": "markdown",
   "id": "698a3b1c",
   "metadata": {},
   "source": [
    "# 7 Merge sort"
   ]
  },
  {
   "cell_type": "code",
   "execution_count": 11,
   "id": "598f1720",
   "metadata": {},
   "outputs": [
    {
     "name": "stdout",
     "output_type": "stream",
     "text": [
      "Enter the arr sep by comma: 9,8,7,6,5,4,3,2,1\n",
      "[1, 2, 3, 4, 5, 6, 7, 8, 9]\n"
     ]
    }
   ],
   "source": [
    "def merge_sort(arr):\n",
    "    if len(arr) > 1:\n",
    "        left_arr = arr[:len(arr)//2]\n",
    "        right_arr = arr[len(arr)//2:]\n",
    "\n",
    "        # Recursion\n",
    "        merge_sort(left_arr)\n",
    "        merge_sort(right_arr)\n",
    "\n",
    "        # Merge\n",
    "        i, j, k = 0, 0, 0\n",
    "        while i < len(left_arr) and j < len(right_arr):\n",
    "            if left_arr[i] < right_arr[j]:\n",
    "                arr[k] = left_arr[i]\n",
    "                i += 1\n",
    "            else:\n",
    "                arr[k] = right_arr[j]\n",
    "                j += 1\n",
    "            k += 1\n",
    "\n",
    "        while i < len(left_arr):\n",
    "            arr[k] = left_arr[i]\n",
    "            i += 1\n",
    "            k += 1\n",
    "\n",
    "        while j < len(right_arr):\n",
    "            arr[k] = right_arr[j]\n",
    "            j += 1\n",
    "            k += 1\n",
    "\n",
    "arr_inp = list(map(int, input(\"Enter the arr sep by comma: \").split(\",\")))\n",
    "merge_sort(arr_inp)\n",
    "print(arr_inp)\n",
    "\n"
   ]
  },
  {
   "cell_type": "markdown",
   "id": "24c672aa",
   "metadata": {},
   "source": [
    "# 8 File operation \n",
    "<p>Write a program which reads the contents of a file and copy the contents to  another file after changing all the letter to upper case. Exceptions should be handled.</p>"
   ]
  },
  {
   "cell_type": "code",
   "execution_count": null,
   "id": "15ce21f6",
   "metadata": {},
   "outputs": [],
   "source": [
    "def create_file(a,b):\n",
    "    try:\n",
    "        file1=open(a,\"r\")\n",
    "        content=file1.read()\n",
    "        \n",
    "        content_upper=content.upper()\n",
    "        \n",
    "        with open(b,\"w\") as file2:\n",
    "            file2.write(content_upper)\n",
    "        \n",
    "        \n",
    "        print(\"New file created 🎉\")\n",
    "            \n",
    "        \n",
    "        \n",
    "        \n",
    "    except FileNotFoundError:\n",
    "        print(f\"Error: The file '{a}.txt' does not exist.\")\n",
    "    except Exception as e:\n",
    "        print(f\"Error: {e}\")\n",
    "\n",
    "try:        \n",
    "    file1 = input(\"Enter the input filename (without extension): \")+\".txt\"\n",
    "    file2 = input(\"Enter the filename To be created (without extension): \")+\".txt\"\n",
    "    create_file(file1,file2)\n",
    "except Exception as e:\n",
    "        print(f\"Error: {e}\")"
   ]
  },
  {
   "cell_type": "markdown",
   "id": "553a53fe",
   "metadata": {},
   "source": [
    "# 9 Prime numbers in a list of numbers\n"
   ]
  },
  {
   "cell_type": "code",
   "execution_count": 12,
   "id": "c109f717",
   "metadata": {},
   "outputs": [
    {
     "name": "stdout",
     "output_type": "stream",
     "text": [
      "Enter the  list of numbers seperated by comma3,2,4,6\n",
      "Prime numbers :  [3, 2]\n"
     ]
    }
   ],
   "source": [
    "\n",
    "\n",
    "arr=list(map(int,input(\"Enter the  list of numbers seperated by comma\").split(\",\")))\n",
    "prime=[]\n",
    "\n",
    "for i in range(0,len(arr)):\n",
    "    count=0\n",
    "    for j in range(1,arr[i] + 1):\n",
    "        if arr[i]%j==0:\n",
    "            count+=1\n",
    "    if count == 2:\n",
    "        prime.append(arr[i])\n",
    "print(\"Prime numbers : \",prime)\n",
    "        "
   ]
  },
  {
   "cell_type": "markdown",
   "id": "2d8b3d0a",
   "metadata": {},
   "source": [
    "# 10 Database operation \n",
    "<list>\n",
    " <li>  10. Write a python program to perform the following </li>\n",
    "  <li> Create table students with fields name,sex,rollno,marks </li>\n",
    " <li>Insert some rows into the table  </li>\n",
    "  <li>  Update the marks of all students by adding 2 marks </li>\n",
    "  <li> Delete a student with a given rollno </li>\n",
    " <li> Display the details of a student with a given rollno  </li>\n",
    "</list>"
   ]
  },
  {
   "cell_type": "code",
   "execution_count": 15,
   "id": "cdc6fc94",
   "metadata": {},
   "outputs": [
    {
     "name": "stdout",
     "output_type": "stream",
     "text": [
      "MySQL connector is installed.\n"
     ]
    }
   ],
   "source": [
    "try:\n",
    "    import mysql.connector\n",
    "    print(\"MySQL connector is installed.\")\n",
    "except ImportError:\n",
    "    print(\"MySQL connector is not installed. Installing...\")\n",
    "    !pip install mysql-connector-python\n",
    "    print(\"MySQL connector has been installed.\")\n"
   ]
  },
  {
   "cell_type": "code",
   "execution_count": 20,
   "id": "781e1056",
   "metadata": {},
   "outputs": [],
   "source": [
    "import mysql.connector as mp\n",
    "mydb=mp.connect(host=\"localhost\",user=\"yadhu\",password=\"password\",database=\"python\")\n",
    "mycursor=mydb.cursor()\n",
    "mycursor.execute(\"create table students2(name varchar(30),sex char(1),rollno int,marks int);\")\n",
    "mycursor.execute(\"INSERT INTO students (name, sex, rollno, marks) VALUES ('John Doe', 'M', 101, 85), ('Jane Smith', 'F', 102, 90),('Bob Johnson', 'M', 103, 78);\")\n",
    "# Commit the changes to the database\n",
    "mydb.commit()\n",
    "\n",
    "\n",
    "mycursor.execute(\"UPDATE students SET marks = marks + 2;\")\n",
    "mydb.commit()\n",
    "\n",
    "rollno_to_delete = 102\n",
    "mycursor.execute(\"DELETE FROM students WHERE rollno = %s;\", (rollno_to_delete,))\n",
    "mydb.commit()\n",
    "\n",
    "# Display details of a student with a given rollno (e.g., rollno 101)\n",
    "rollno_to_display = 101\n",
    "mycursor.execute(\"SELECT * FROM students WHERE rollno = %s;\", (rollno_to_display,))\n",
    "student_details = mycursor.fetchone()\n",
    "\n",
    "# Print the details\n",
    "print(\"Details of student with rollno\", rollno_to_display, \":\", student_details)\n",
    "\n",
    "# Close the cursor and connection\n",
    "mycursor.close()\n",
    "mydb.close()"
   ]
  },
  {
   "cell_type": "markdown",
   "id": "68ecaf5a",
   "metadata": {},
   "source": [
    "# 11 login Ui using tkinter"
   ]
  },
  {
   "cell_type": "code",
   "execution_count": null,
   "id": "079c269e",
   "metadata": {},
   "outputs": [],
   "source": [
    "try:\n",
    "    import tkinter\n",
    "    print(\"tkinter is installed.\")\n",
    "except ImportError:\n",
    "    print(\"tkinter is not installed. Installing...\")\n",
    "    !pip install tkinter\n",
    "    print(\"Tkinter has been installed.\")"
   ]
  },
  {
   "cell_type": "code",
   "execution_count": 22,
   "id": "b62bb4e6",
   "metadata": {},
   "outputs": [],
   "source": [
    "import tkinter as tk\n",
    "from tkinter import messagebox\n",
    "\n",
    "def validate_login():\n",
    "    username = entry_username.get()\n",
    "    password = entry_password.get()\n",
    "\n",
    "    # Replace the following condition with your actual authentication logic\n",
    "    if username == \"admin\" and password == \"password\":\n",
    "        messagebox.showinfo(\"Login Successful\", \"Welcome, \" + username + \"!\")\n",
    "    else:\n",
    "        messagebox.showerror(\"Login Failed\", \"Invalid username or password\")\n",
    "\n",
    "# Create the main window\n",
    "root = tk.Tk()\n",
    "root.title(\"Login Window\")\n",
    "\n",
    "# Create and place widgets\n",
    "label_username = tk.Label(root, text=\"Username:\")\n",
    "label_username.grid(row=0, column=0, padx=10, pady=5)\n",
    "\n",
    "entry_username = tk.Entry(root)\n",
    "entry_username.grid(row=0, column=1, padx=10, pady=5)\n",
    "\n",
    "label_password = tk.Label(root, text=\"Password:\")\n",
    "label_password.grid(row=1, column=0, padx=10, pady=5)\n",
    "\n",
    "entry_password = tk.Entry(root, show=\"*\")  # Use show=\"*\" to hide the password\n",
    "entry_password.grid(row=1, column=1, padx=10, pady=5)\n",
    "\n",
    "button_login = tk.Button(root, text=\"Login\", command=validate_login)\n",
    "button_login.grid(row=2, column=0, columnspan=2, pady=10)\n",
    "\n",
    "# Start the Tkinter event loop\n",
    "root.mainloop()\n"
   ]
  },
  {
   "cell_type": "markdown",
   "id": "ffbce85a",
   "metadata": {},
   "source": [
    "# PLOT x**2 "
   ]
  },
  {
   "cell_type": "code",
   "execution_count": 24,
   "id": "7ee534ae",
   "metadata": {},
   "outputs": [
    {
     "name": "stdout",
     "output_type": "stream",
     "text": [
      "matplotlib is installed.\n",
      "numpy is installed.\n"
     ]
    }
   ],
   "source": [
    "try:\n",
    "    import matplotlib\n",
    "    print(\"matplotlib is installed.\")\n",
    "except ImportError:\n",
    "    print(\"matplotlib is not installed. Installing...\")\n",
    "    !pip install matplotlib\n",
    "    print(\"Matplotlib has been installed.\")\n",
    "\n",
    "try:\n",
    "    import numpy\n",
    "    print(\"numpy is installed.\")\n",
    "except ImportError:\n",
    "    print(\"numpy is not installed. Installing...\")\n",
    "    !pip install numpy\n",
    "    print(\"NumPy has been installed.\")\n"
   ]
  },
  {
   "cell_type": "code",
   "execution_count": 27,
   "id": "d0801a00",
   "metadata": {},
   "outputs": [
    {
     "name": "stderr",
     "output_type": "stream",
     "text": [
      "No artists with labels found to put in legend.  Note that artists whose label start with an underscore are ignored when legend() is called with no argument.\n"
     ]
    },
    {
     "data": {
      "image/png": "[encoded data removed]",
      "text/plain": [
       "<Figure size 640x480 with 1 Axes>"
      ]
     },
     "metadata": {},
     "output_type": "display_data"
    }
   ],
   "source": [
    "import numpy as np\n",
    "import matplotlib.pyplot as plt\n",
    "xc=np.arange(0,10,1)\n",
    "yc=[x * x for x in xc]\n",
    "plt.title(\"Sqaures\")\n",
    "plt.xlabel(\"x\")\n",
    "plt.ylabel(\" x square \")\n",
    "plt.grid(True, linestyle='--', alpha=0.7)\n",
    "plt.legend()\n",
    "plt.plot(xc,yc)\n",
    "plt.show()"
   ]
  }
 ],
 "metadata": {
  "kernelspec": {
   "display_name": "Python 3 (ipykernel)",
   "language": "python",
   "name": "python3"
  },
  "language_info": {
   "codemirror_mode": {
    "name": "ipython",
    "version": 3
   },
   "file_extension": ".py",
   "mimetype": "text/x-python",
   "name": "python",
   "nbconvert_exporter": "python",
   "pygments_lexer": "ipython3",
   "version": "3.11.4"
  }
 },
 "nbformat": 4,
 "nbformat_minor": 5
}
